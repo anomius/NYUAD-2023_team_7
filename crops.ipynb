{
 "cells": [
  {
   "cell_type": "code",
   "execution_count": 1,
   "id": "7be7c15d",
   "metadata": {},
   "outputs": [],
   "source": [
    "import matplotlib.pyplot as plt\n",
    "import numpy as np"
   ]
  },
  {
   "cell_type": "code",
   "execution_count": null,
   "id": "9944191d",
   "metadata": {},
   "outputs": [],
   "source": [
    "class Crop:\n",
    "    def __init__(self, name, net_N):\n",
    "        self.name = name\n",
    "        self.net_N = net_N\n",
    "    def fertilizer_requirement(self, soil_quality):\n",
    "        return soil_quality - (self.net_N)\n",
    "\n",
    "Wheat = Crop('Wheat', -1.12)\n",
    "Barely= Crop('Barely', -432)\n",
    "Corn = Crop('Corn', -89.6)\n",
    "Alfalfa = Crop('Alfalfa', 280)\n",
    "Fava= Crop('Fava', 113.4)\n",
    "\n",
    "\n",
    "    \n",
    "    "
   ]
  }
 ],
 "metadata": {
  "kernelspec": {
   "display_name": "Python 3 (ipykernel)",
   "language": "python",
   "name": "python3"
  },
  "language_info": {
   "codemirror_mode": {
    "name": "ipython",
    "version": 3
   },
   "file_extension": ".py",
   "mimetype": "text/x-python",
   "name": "python",
   "nbconvert_exporter": "python",
   "pygments_lexer": "ipython3",
   "version": "3.10.8"
  }
 },
 "nbformat": 4,
 "nbformat_minor": 5
}
