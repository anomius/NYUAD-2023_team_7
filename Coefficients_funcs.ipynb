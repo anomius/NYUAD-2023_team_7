{
 "cells": [
  {
   "cell_type": "code",
   "execution_count": null,
   "id": "d2607707",
   "metadata": {},
   "outputs": [],
   "source": [
    "import numpy as np\n",
    "import pandas as pd\n",
    "from sklearn.decomposition import PCA \n",
    "    \n",
    "#print(df_normalized)\n",
    "def yeild_constant(file):\n",
    "    \n",
    "    #normalization of values\n",
    "    df = pd.read_csv(file)\n",
    "    max_s = df.max()\n",
    "    df_ = df/max_s\n",
    "    X=df_\n",
    "\n",
    "    pca = PCA(n_components=X.shape[1])\n",
    "    pca.fit(X)\n",
    "    num_components = n_components=X.shape[1]\n",
    "    eigenvalues=pca.explained_variance_\n",
    "    selected_components = np.argsort(eigenvalues)[-num_components:]\n",
    "\n",
    "    # selection of components with the highest eigenvalues\n",
    "    \n",
    "    # principal components data matrix for the selected component\n",
    "    principal_components = pca.components_[selected_components,:]\n",
    "    \n",
    "    #weights for PCs based eigenvalues\n",
    "    weights = eigenvalues[selected_components] / np.sum(eigenvalues[selected_components])\n",
    "\n",
    "    yc = np.dot(weights, np.dot(principal_components.T, X.T))\n",
    "    yc=np.abs(yc)\n",
    "    yc=1-np.mean(yc)\n",
    "    return yc\n",
    "    \n",
    "yeild_constant('YC.csv')"
   ]
  },
  {
   "cell_type": "code",
   "execution_count": 3,
   "id": "9944191d",
   "metadata": {},
   "outputs": [],
   "source": [
    "#Crop class\n",
    "class Crop:\n",
    "    def __init__(self, name, net_N):\n",
    "        self.name = name\n",
    "        self.net_N = net_N\n",
    "    def fertilizer_requirement(self, soil_quality: float):\n",
    "        return soil_quality - (self.net_N)\n",
    "\n",
    "#Crops we are considering\n",
    "Wheat = Crop('Wheat', -1.12)\n",
    "Barely= Crop('Barely', -432)\n",
    "Corn = Crop('Corn', -89.6)\n",
    "Alfalfa = Crop('Alfalfa', 280)\n",
    "Fava= Crop('Fava', 113.4)\n",
    "\n",
    "#nitroogen fixation and fertilization recquirement \n",
    "def nitrogen_constant(crop: Crop):\n",
    "    return crop.net_N\n",
    "\n",
    "def fert_constant(crop: Crop, soil_quality):\n",
    "    return(crop.fertilizer_requirement(crop, soil_quality ))    \n",
    "    "
   ]
  }
 ],
 "metadata": {
  "kernelspec": {
   "display_name": "Python 3 (ipykernel)",
   "language": "python",
   "name": "python3"
  },
  "language_info": {
   "codemirror_mode": {
    "name": "ipython",
    "version": 3
   },
   "file_extension": ".py",
   "mimetype": "text/x-python",
   "name": "python",
   "nbconvert_exporter": "python",
   "pygments_lexer": "ipython3",
   "version": "3.10.9"
  }
 },
 "nbformat": 4,
 "nbformat_minor": 5
}
