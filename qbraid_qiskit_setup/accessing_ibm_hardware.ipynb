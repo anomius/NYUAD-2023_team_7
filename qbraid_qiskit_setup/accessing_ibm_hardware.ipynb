{
 "cells": [
  {
   "cell_type": "markdown",
   "id": "c5cf89c4",
   "metadata": {},
   "source": [
    "# Enable account to access Qiskit QPUs\n",
    "\n",
    "Use the qBraid-CLI to enable your account and gain access to QPUs available through Qiskit.\n",
    "\n",
    "Normally, Qiskit requires that you create an IBM account. However, by using Qiskit through qBaid Lab, we've taken care of this for you. "
   ]
  },
  {
   "cell_type": "code",
   "execution_count": 5,
   "id": "2e5b9e1f",
   "metadata": {},
   "outputs": [
    {
     "name": "stdout",
     "output_type": "stream",
     "text": [
      "\u001b[0;35mYou have already enabled qBraid Quantum Jobs in the qiskit environment.\u001b[0m\n"
     ]
    }
   ],
   "source": [
    "!qbraid jobs enable qiskit"
   ]
  },
  {
   "cell_type": "markdown",
   "id": "bc180880",
   "metadata": {},
   "source": [
    "<h1 style=\"color:#9b12df;\">qBraid instructions</h1> \n",
    "\n",
    "If you are not planning to submit jobs to quantum computers, this notebook should work well with `Python [Default]` kernel. If you want to submit jobs to quantum computers, make sure that you have installed the qiskit environment on qBraid ([installation instructions](https://qbraid-qbraid.readthedocs-hosted.com/en/latest/lab/environments.html#install-environment)) and have selected the `Python [Qiskit]` kernel (Menu Bar->Kernel->Change Kernel).\n",
    "\n",
    "If you do not have aws credentials for submitting your quantum jobs, you will need qBraid-Credits. If you have qBraid-Credits, you can run the following line of code to submit quantum jobs through qBraid"
   ]
  },
  {
   "cell_type": "code",
   "execution_count": 6,
   "id": "f33b760e",
   "metadata": {},
   "outputs": [
    {
     "ename": "RequestsApiError",
     "evalue": "'400 Client Error: Bad Request for url: https://api-staging-1.qbraid.com/api/ibm-routes?route=/version. \"If you don\\'t specify an idToken, you must specify both an email and refreshToken\"'",
     "output_type": "error",
     "traceback": [
      "\u001b[0;31m---------------------------------------------------------------------------\u001b[0m",
      "\u001b[0;31mHTTPError\u001b[0m                                 Traceback (most recent call last)",
      "File \u001b[0;32m~/.qbraid/environments/qiskit_9y9siy/pyenv/lib/python3.9/site-packages/qiskit_ibm_runtime/api/session.py:270\u001b[0m, in \u001b[0;36mRetrySession.request\u001b[0;34m(self, method, url, bare, **kwargs)\u001b[0m\n\u001b[1;32m    269\u001b[0m     response \u001b[38;5;241m=\u001b[39m \u001b[38;5;28msuper\u001b[39m()\u001b[38;5;241m.\u001b[39mrequest(method, final_url, headers\u001b[38;5;241m=\u001b[39mheaders, \u001b[38;5;241m*\u001b[39m\u001b[38;5;241m*\u001b[39mkwargs)\n\u001b[0;32m--> 270\u001b[0m     \u001b[43mresponse\u001b[49m\u001b[38;5;241;43m.\u001b[39;49m\u001b[43mraise_for_status\u001b[49m\u001b[43m(\u001b[49m\u001b[43m)\u001b[49m\n\u001b[1;32m    271\u001b[0m \u001b[38;5;28;01mexcept\u001b[39;00m RequestException \u001b[38;5;28;01mas\u001b[39;00m ex:\n\u001b[1;32m    272\u001b[0m     \u001b[38;5;66;03m# Wrap the requests exceptions into a IBM Q custom one, for\u001b[39;00m\n\u001b[1;32m    273\u001b[0m     \u001b[38;5;66;03m# compatibility.\u001b[39;00m\n",
      "File \u001b[0;32m~/.qbraid/environments/qiskit_9y9siy/pyenv/lib/python3.9/site-packages/requests/models.py:1021\u001b[0m, in \u001b[0;36mResponse.raise_for_status\u001b[0;34m(self)\u001b[0m\n\u001b[1;32m   1020\u001b[0m \u001b[38;5;28;01mif\u001b[39;00m http_error_msg:\n\u001b[0;32m-> 1021\u001b[0m     \u001b[38;5;28;01mraise\u001b[39;00m HTTPError(http_error_msg, response\u001b[38;5;241m=\u001b[39m\u001b[38;5;28mself\u001b[39m)\n",
      "\u001b[0;31mHTTPError\u001b[0m: 400 Client Error: Bad Request for url: https://api-staging-1.qbraid.com/api/ibm-routes?route=/version",
      "\nThe above exception was the direct cause of the following exception:\n",
      "\u001b[0;31mRequestsApiError\u001b[0m                          Traceback (most recent call last)",
      "Cell \u001b[0;32mIn[6], line 3\u001b[0m\n\u001b[1;32m      1\u001b[0m \u001b[38;5;28;01mfrom\u001b[39;00m \u001b[38;5;21;01mqiskit_ibm_runtime\u001b[39;00m \u001b[38;5;28;01mimport\u001b[39;00m QiskitRuntimeService\n\u001b[1;32m      2\u001b[0m \u001b[38;5;28;01mfrom\u001b[39;00m \u001b[38;5;21;01mqiskit_ibm_provider\u001b[39;00m \u001b[38;5;28;01mimport\u001b[39;00m IBMProvider\n\u001b[0;32m----> 3\u001b[0m service \u001b[38;5;241m=\u001b[39m \u001b[43mQiskitRuntimeService\u001b[49m\u001b[43m(\u001b[49m\u001b[43mchannel\u001b[49m\u001b[38;5;241;43m=\u001b[39;49m\u001b[38;5;124;43m\"\u001b[39;49m\u001b[38;5;124;43mibm_quantum\u001b[39;49m\u001b[38;5;124;43m\"\u001b[39;49m\u001b[43m)\u001b[49m\n\u001b[1;32m      4\u001b[0m backend \u001b[38;5;241m=\u001b[39m service\u001b[38;5;241m.\u001b[39mget_backend(\u001b[38;5;124m\"\u001b[39m\u001b[38;5;124mibmq_jakarta\u001b[39m\u001b[38;5;124m\"\u001b[39m)\n",
      "File \u001b[0;32m~/.qbraid/environments/qiskit_9y9siy/pyenv/lib/python3.9/site-packages/qiskit_ibm_runtime/qiskit_runtime_service.py:216\u001b[0m, in \u001b[0;36mQiskitRuntimeService.__init__\u001b[0;34m(self, channel, auth, token, url, filename, name, instance, proxies, verify)\u001b[0m\n\u001b[1;32m    214\u001b[0m     \u001b[38;5;28;01mreturn\u001b[39;00m\n\u001b[1;32m    215\u001b[0m \u001b[38;5;28;01melse\u001b[39;00m:\n\u001b[0;32m--> 216\u001b[0m     auth_client \u001b[38;5;241m=\u001b[39m \u001b[38;5;28;43mself\u001b[39;49m\u001b[38;5;241;43m.\u001b[39;49m\u001b[43m_authenticate_ibm_quantum_account\u001b[49m\u001b[43m(\u001b[49m\u001b[38;5;28;43mself\u001b[39;49m\u001b[38;5;241;43m.\u001b[39;49m\u001b[43m_client_params\u001b[49m\u001b[43m)\u001b[49m\n\u001b[1;32m    217\u001b[0m     \u001b[38;5;66;03m# Update client parameters to use authenticated values.\u001b[39;00m\n\u001b[1;32m    218\u001b[0m     \u001b[38;5;28mself\u001b[39m\u001b[38;5;241m.\u001b[39m_client_params\u001b[38;5;241m.\u001b[39murl \u001b[38;5;241m=\u001b[39m auth_client\u001b[38;5;241m.\u001b[39mcurrent_service_urls()[\u001b[38;5;124m\"\u001b[39m\u001b[38;5;124mservices\u001b[39m\u001b[38;5;124m\"\u001b[39m][\n\u001b[1;32m    219\u001b[0m         \u001b[38;5;124m\"\u001b[39m\u001b[38;5;124mruntime\u001b[39m\u001b[38;5;124m\"\u001b[39m\n\u001b[1;32m    220\u001b[0m     ]\n",
      "File \u001b[0;32m~/.qbraid/environments/qiskit_9y9siy/pyenv/lib/python3.9/site-packages/qiskit_ibm_runtime/qiskit_runtime_service.py:366\u001b[0m, in \u001b[0;36mQiskitRuntimeService._authenticate_ibm_quantum_account\u001b[0;34m(self, client_params)\u001b[0m\n\u001b[1;32m    351\u001b[0m \u001b[38;5;28;01mdef\u001b[39;00m \u001b[38;5;21m_authenticate_ibm_quantum_account\u001b[39m(\n\u001b[1;32m    352\u001b[0m     \u001b[38;5;28mself\u001b[39m, client_params: ClientParameters\n\u001b[1;32m    353\u001b[0m ) \u001b[38;5;241m-\u001b[39m\u001b[38;5;241m>\u001b[39m AuthClient:\n\u001b[1;32m    354\u001b[0m     \u001b[38;5;124;03m\"\"\"Authenticate against IBM Quantum and populate the hub/group/projects.\u001b[39;00m\n\u001b[1;32m    355\u001b[0m \n\u001b[1;32m    356\u001b[0m \u001b[38;5;124;03m    Args:\u001b[39;00m\n\u001b[0;32m   (...)\u001b[0m\n\u001b[1;32m    364\u001b[0m \u001b[38;5;124;03m        Authentication client.\u001b[39;00m\n\u001b[1;32m    365\u001b[0m \u001b[38;5;124;03m    \"\"\"\u001b[39;00m\n\u001b[0;32m--> 366\u001b[0m     version_info \u001b[38;5;241m=\u001b[39m \u001b[38;5;28;43mself\u001b[39;49m\u001b[38;5;241;43m.\u001b[39;49m\u001b[43m_check_api_version\u001b[49m\u001b[43m(\u001b[49m\u001b[43mclient_params\u001b[49m\u001b[43m)\u001b[49m\n\u001b[1;32m    367\u001b[0m     \u001b[38;5;66;03m# Check the URL is a valid authentication URL.\u001b[39;00m\n\u001b[1;32m    368\u001b[0m     \u001b[38;5;28;01mif\u001b[39;00m \u001b[38;5;129;01mnot\u001b[39;00m version_info[\u001b[38;5;124m\"\u001b[39m\u001b[38;5;124mnew_api\u001b[39m\u001b[38;5;124m\"\u001b[39m] \u001b[38;5;129;01mor\u001b[39;00m \u001b[38;5;124m\"\u001b[39m\u001b[38;5;124mapi-auth\u001b[39m\u001b[38;5;124m\"\u001b[39m \u001b[38;5;129;01mnot\u001b[39;00m \u001b[38;5;129;01min\u001b[39;00m version_info:\n",
      "File \u001b[0;32m~/.qbraid/environments/qiskit_9y9siy/pyenv/lib/python3.9/site-packages/qiskit_ibm_runtime/qiskit_runtime_service.py:462\u001b[0m, in \u001b[0;36mQiskitRuntimeService._check_api_version\u001b[0;34m(params)\u001b[0m\n\u001b[1;32m    453\u001b[0m \u001b[38;5;124;03m\"\"\"Check the version of the remote server in a set of client parameters.\u001b[39;00m\n\u001b[1;32m    454\u001b[0m \n\u001b[1;32m    455\u001b[0m \u001b[38;5;124;03mArgs:\u001b[39;00m\n\u001b[0;32m   (...)\u001b[0m\n\u001b[1;32m    459\u001b[0m \u001b[38;5;124;03m    A dictionary with version information.\u001b[39;00m\n\u001b[1;32m    460\u001b[0m \u001b[38;5;124;03m\"\"\"\u001b[39;00m\n\u001b[1;32m    461\u001b[0m version_finder \u001b[38;5;241m=\u001b[39m VersionClient(url\u001b[38;5;241m=\u001b[39mparams\u001b[38;5;241m.\u001b[39murl, \u001b[38;5;241m*\u001b[39m\u001b[38;5;241m*\u001b[39mparams\u001b[38;5;241m.\u001b[39mconnection_parameters())\n\u001b[0;32m--> 462\u001b[0m \u001b[38;5;28;01mreturn\u001b[39;00m \u001b[43mversion_finder\u001b[49m\u001b[38;5;241;43m.\u001b[39;49m\u001b[43mversion\u001b[49m\u001b[43m(\u001b[49m\u001b[43m)\u001b[49m\n",
      "File \u001b[0;32m~/.qbraid/environments/qiskit_9y9siy/pyenv/lib/python3.9/site-packages/qiskit_ibm_runtime/api/clients/version.py:48\u001b[0m, in \u001b[0;36mVersionClient.version\u001b[0;34m(self)\u001b[0m\n\u001b[1;32m     35\u001b[0m \u001b[38;5;28;01mdef\u001b[39;00m \u001b[38;5;21mversion\u001b[39m(\u001b[38;5;28mself\u001b[39m) \u001b[38;5;241m-\u001b[39m\u001b[38;5;241m>\u001b[39m Dict[\u001b[38;5;28mstr\u001b[39m, Union[\u001b[38;5;28mbool\u001b[39m, \u001b[38;5;28mstr\u001b[39m]]:\n\u001b[1;32m     36\u001b[0m     \u001b[38;5;124;03m\"\"\"Return the version information.\u001b[39;00m\n\u001b[1;32m     37\u001b[0m \n\u001b[1;32m     38\u001b[0m \u001b[38;5;124;03m    Returns:\u001b[39;00m\n\u001b[0;32m   (...)\u001b[0m\n\u001b[1;32m     46\u001b[0m \u001b[38;5;124;03m            * ``api-*`` (str): The versions of each individual API component\u001b[39;00m\n\u001b[1;32m     47\u001b[0m \u001b[38;5;124;03m    \"\"\"\u001b[39;00m\n\u001b[0;32m---> 48\u001b[0m     \u001b[38;5;28;01mreturn\u001b[39;00m \u001b[38;5;28;43mself\u001b[39;49m\u001b[38;5;241;43m.\u001b[39;49m\u001b[43mclient_version_finder\u001b[49m\u001b[38;5;241;43m.\u001b[39;49m\u001b[43mversion\u001b[49m\u001b[43m(\u001b[49m\u001b[43m)\u001b[49m\n",
      "File \u001b[0;32m~/.qbraid/environments/qiskit_9y9siy/pyenv/lib/python3.9/site-packages/qiskit_ibm_runtime/api/rest/root.py:60\u001b[0m, in \u001b[0;36mApi.version\u001b[0;34m(self)\u001b[0m\n\u001b[1;32m     47\u001b[0m \u001b[38;5;124;03m\"\"\"Return the version information.\u001b[39;00m\n\u001b[1;32m     48\u001b[0m \n\u001b[1;32m     49\u001b[0m \u001b[38;5;124;03mReturns:\u001b[39;00m\n\u001b[0;32m   (...)\u001b[0m\n\u001b[1;32m     57\u001b[0m \u001b[38;5;124;03m        * ``api-*`` (str): The versions of each individual API component\u001b[39;00m\n\u001b[1;32m     58\u001b[0m \u001b[38;5;124;03m\"\"\"\u001b[39;00m\n\u001b[1;32m     59\u001b[0m url \u001b[38;5;241m=\u001b[39m \u001b[38;5;28mself\u001b[39m\u001b[38;5;241m.\u001b[39mget_url(\u001b[38;5;124m\"\u001b[39m\u001b[38;5;124mversion\u001b[39m\u001b[38;5;124m\"\u001b[39m)\n\u001b[0;32m---> 60\u001b[0m response \u001b[38;5;241m=\u001b[39m \u001b[38;5;28;43mself\u001b[39;49m\u001b[38;5;241;43m.\u001b[39;49m\u001b[43msession\u001b[49m\u001b[38;5;241;43m.\u001b[39;49m\u001b[43mget\u001b[49m\u001b[43m(\u001b[49m\u001b[43murl\u001b[49m\u001b[43m)\u001b[49m\n\u001b[1;32m     62\u001b[0m \u001b[38;5;28;01mtry\u001b[39;00m:\n\u001b[1;32m     63\u001b[0m     version_info \u001b[38;5;241m=\u001b[39m response\u001b[38;5;241m.\u001b[39mjson()\n",
      "File \u001b[0;32m~/.qbraid/environments/qiskit_9y9siy/pyenv/lib/python3.9/site-packages/requests/sessions.py:600\u001b[0m, in \u001b[0;36mget\u001b[0;34m(self, url, **kwargs)\u001b[0m\n\u001b[1;32m    587\u001b[0m \u001b[38;5;66;03m# Create the Request.\u001b[39;00m\n\u001b[1;32m    588\u001b[0m req \u001b[38;5;241m=\u001b[39m Request(\n\u001b[1;32m    589\u001b[0m     method\u001b[38;5;241m=\u001b[39mmethod\u001b[38;5;241m.\u001b[39mupper(),\n\u001b[1;32m    590\u001b[0m     url\u001b[38;5;241m=\u001b[39murl,\n\u001b[0;32m   (...)\u001b[0m\n\u001b[1;32m    598\u001b[0m     hooks\u001b[38;5;241m=\u001b[39mhooks,\n\u001b[1;32m    599\u001b[0m )\n\u001b[0;32m--> 600\u001b[0m prep \u001b[38;5;241m=\u001b[39m \u001b[38;5;28mself\u001b[39m\u001b[38;5;241m.\u001b[39mprepare_request(req)\n\u001b[1;32m    602\u001b[0m proxies \u001b[38;5;241m=\u001b[39m proxies \u001b[38;5;129;01mor\u001b[39;00m {}\n\u001b[1;32m    604\u001b[0m settings \u001b[38;5;241m=\u001b[39m \u001b[38;5;28mself\u001b[39m\u001b[38;5;241m.\u001b[39mmerge_environment_settings(\n\u001b[1;32m    605\u001b[0m     prep\u001b[38;5;241m.\u001b[39murl, proxies, stream, verify, cert\n\u001b[1;32m    606\u001b[0m )\n",
      "File \u001b[0;32m~/.qbraid/environments/qiskit_9y9siy/pyenv/lib/python3.9/site-packages/qiskit_ibm_runtime/api/session.py:292\u001b[0m, in \u001b[0;36mRetrySession.request\u001b[0;34m(self, method, url, bare, **kwargs)\u001b[0m\n\u001b[1;32m    290\u001b[0m     \u001b[38;5;28;01mif\u001b[39;00m status_code \u001b[38;5;241m==\u001b[39m \u001b[38;5;241m401\u001b[39m:\n\u001b[1;32m    291\u001b[0m         \u001b[38;5;28;01mraise\u001b[39;00m IBMNotAuthorizedError(message) \u001b[38;5;28;01mfrom\u001b[39;00m \u001b[38;5;21;01mex\u001b[39;00m\n\u001b[0;32m--> 292\u001b[0m     \u001b[38;5;28;01mraise\u001b[39;00m RequestsApiError(message, status_code) \u001b[38;5;28;01mfrom\u001b[39;00m \u001b[38;5;21;01mex\u001b[39;00m\n\u001b[1;32m    294\u001b[0m \u001b[38;5;28;01mreturn\u001b[39;00m response\n",
      "\u001b[0;31mRequestsApiError\u001b[0m: '400 Client Error: Bad Request for url: https://api-staging-1.qbraid.com/api/ibm-routes?route=/version. \"If you don\\'t specify an idToken, you must specify both an email and refreshToken\"'"
     ]
    }
   ],
   "source": [
    "from qiskit_ibm_runtime import QiskitRuntimeService\n",
    "from qiskit_ibm_provider import IBMProvider\n",
    "service = QiskitRuntimeService(channel=\"ibm_quantum\")\n",
    "backend = service.get_backend(\"ibmq_jakarta\")"
   ]
  },
  {
   "cell_type": "code",
   "execution_count": 7,
   "id": "619d7a9b",
   "metadata": {},
   "outputs": [
    {
     "ename": "NameError",
     "evalue": "name 'backend' is not defined",
     "output_type": "error",
     "traceback": [
      "\u001b[0;31m---------------------------------------------------------------------------\u001b[0m",
      "\u001b[0;31mNameError\u001b[0m                                 Traceback (most recent call last)",
      "Cell \u001b[0;32mIn[7], line 7\u001b[0m\n\u001b[1;32m      5\u001b[0m bell\u001b[38;5;241m.\u001b[39mcx(\u001b[38;5;241m0\u001b[39m,\u001b[38;5;241m1\u001b[39m)\n\u001b[1;32m      6\u001b[0m bell\u001b[38;5;241m.\u001b[39mmeasure_all()\n\u001b[0;32m----> 7\u001b[0m bell \u001b[38;5;241m=\u001b[39m transpile(bell, \u001b[43mbackend\u001b[49m)\n",
      "\u001b[0;31mNameError\u001b[0m: name 'backend' is not defined"
     ]
    }
   ],
   "source": [
    "from qiskit import QuantumCircuit, transpile\n",
    "\n",
    "bell = QuantumCircuit(2)\n",
    "bell.h(0)\n",
    "bell.cx(0,1)\n",
    "bell.measure_all()\n",
    "bell = transpile(bell, backend)"
   ]
  },
  {
   "cell_type": "markdown",
   "id": "9b13d06c",
   "metadata": {},
   "source": [
    "## Set a max execution time with circuit-runner"
   ]
  },
  {
   "cell_type": "code",
   "execution_count": 7,
   "id": "f09a5910",
   "metadata": {},
   "outputs": [
    {
     "name": "stdout",
     "output_type": "stream",
     "text": [
      "ch1tihol1tcq36l127u0\n",
      "JobStatus.QUEUED\n"
     ]
    }
   ],
   "source": [
    "options = {\"backend_name\": 'ibmq_jakarta', \n",
    "           \"max_execution_time\":300,\n",
    "           \"instance\":'ibm-q-startup/qbraid/main'}\n",
    "\n",
    "runtime_inputs = {\n",
    "    'circuits': bell, \n",
    "    'shots': 4000, \n",
    "}\n",
    "\n",
    "job = service.run(\n",
    "    program_id='circuit-runner',\n",
    "    options=options,\n",
    "    inputs=runtime_inputs,\n",
    ")\n",
    "\n",
    "# Job id\n",
    "print(job.job_id())\n",
    "# See job status\n",
    "print(job.status())"
   ]
  },
  {
   "cell_type": "markdown",
   "id": "69bb68c5",
   "metadata": {},
   "source": [
    "## Set a max execution time with a primitive \n",
    "\n",
    "The example is with the Sampler, the settings of the max execution time would be the exact same for the Estimator."
   ]
  },
  {
   "cell_type": "code",
   "execution_count": 4,
   "id": "14f359a1",
   "metadata": {},
   "outputs": [],
   "source": [
    "from qiskit_ibm_runtime import Options\n",
    "\n",
    "options = Options(max_execution_time=300) ## must pass in a shorter execution time "
   ]
  },
  {
   "cell_type": "code",
   "execution_count": null,
   "id": "a6160b30",
   "metadata": {},
   "outputs": [],
   "source": [
    "from qiskit_ibm_runtime import Sampler\n",
    "\n",
    "sampler = Sampler(session=backend, options=options)"
   ]
  },
  {
   "cell_type": "code",
   "execution_count": null,
   "id": "b1a33d40",
   "metadata": {},
   "outputs": [],
   "source": [
    "job = sampler.run(bell)\n",
    "print(f\">>> Job ID: {job.job_id()}\")\n",
    "print(f\">>> Job Status: {job.status()}\")\n"
   ]
  },
  {
   "cell_type": "markdown",
   "id": "87f3d9b7",
   "metadata": {},
   "source": [
    "### Retrieve a job from IBMProvider"
   ]
  },
  {
   "cell_type": "code",
   "execution_count": null,
   "id": "3bc1bf0a",
   "metadata": {},
   "outputs": [],
   "source": [
    "provider = IBMProvider(instance='ibm-q/open/main')\n",
    "jobs = provider.jobs()\n",
    "backend  =  provider.get_backend(\"ibmq_lima\")\n",
    "job = backend.run(bell, shots=4000,)\n"
   ]
  },
  {
   "cell_type": "code",
   "execution_count": null,
   "id": "bcfa55bb",
   "metadata": {},
   "outputs": [],
   "source": [
    "# Run the circuit on a backend then cancel it\n",
    "backend = provider.get_backend(\"ibmq_belem\")\n",
    "job = backend.run(bell)\n",
    "job.cancel()"
   ]
  }
 ],
 "metadata": {
  "kernelspec": {
   "display_name": "Python 3 [Qiskit]",
   "language": "python",
   "name": "python3_qiskit_9y9siy"
  },
  "language_info": {
   "codemirror_mode": {
    "name": "ipython",
    "version": 3
   },
   "file_extension": ".py",
   "mimetype": "text/x-python",
   "name": "python",
   "nbconvert_exporter": "python",
   "pygments_lexer": "ipython3",
   "version": "3.9.10"
  }
 },
 "nbformat": 4,
 "nbformat_minor": 5
}
