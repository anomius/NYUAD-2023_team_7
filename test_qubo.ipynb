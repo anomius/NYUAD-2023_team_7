{
 "cells": [
  {
   "cell_type": "code",
   "execution_count": 1,
   "id": "8b43fc2e-065a-4cb8-b2d9-262cef0b475f",
   "metadata": {},
   "outputs": [],
   "source": [
    "from qiskit import QuantumCircuit\n",
    "from qiskit.visualization import plot_histogram\n",
    "from qiskit_ibm_runtime import QiskitRuntimeService\n",
    "from qiskit_ibm_provider import IBMProvider"
   ]
  },
  {
   "cell_type": "code",
   "execution_count": 2,
   "id": "4f5b7629-a6eb-4990-92cf-447fcd75d0fc",
   "metadata": {},
   "outputs": [
    {
     "data": {
      "text/plain": [
       "'ibmq_belem'"
      ]
     },
     "execution_count": 2,
     "metadata": {},
     "output_type": "execute_result"
    }
   ],
   "source": [
    "provider = IBMProvider()\n",
    "\n",
    "# backends = provider.backends(simulator=False, operational=True)\n",
    "\n",
    "# # choose IBMQ backend\n",
    "# backend = least_busy(backends)\n",
    "\n",
    "backend = provider.get_backend(\"ibmq_belem\")\n",
    "\n",
    "backend.name"
   ]
  },
  {
   "cell_type": "code",
   "execution_count": 3,
   "id": "f4e4ca93-f159-47a5-bec5-50db9303d7ff",
   "metadata": {},
   "outputs": [],
   "source": [
    "from qiskit.utils import algorithm_globals\n",
    "from qiskit.algorithms.minimum_eigensolvers import QAOA, NumPyMinimumEigensolver\n",
    "from qiskit.algorithms.optimizers import COBYLA\n",
    "from qiskit.primitives import Sampler\n",
    "from qiskit_optimization.algorithms import (\n",
    "    MinimumEigenOptimizer,\n",
    "    RecursiveMinimumEigenOptimizer,\n",
    "    SolutionSample,\n",
    "    OptimizationResultStatus,\n",
    ")\n",
    "from qiskit_optimization import QuadraticProgram\n",
    "from qiskit.visualization import plot_histogram\n",
    "from typing import List, Tuple\n",
    "import numpy as np"
   ]
  },
  {
   "cell_type": "code",
   "execution_count": 4,
   "id": "287ead4c-0743-4864-8506-4d1eebb70ae3",
   "metadata": {},
   "outputs": [],
   "source": [
    "def name_nodes(qubo, plants_counts, field_count, years_count):\n",
    "    # Create a cube\n",
    "    for plant in range(plants_count):\n",
    "        for field in range(field_count):\n",
    "            for year in range(year_count):\n",
    "                name = f\"x_p{plant}_l{field}_t{year}\"\n",
    "                qubo.binary_var(name)\n",
    "                \n",
    "                # In the form: \n",
    "                # qubo.binary_var(\"x_p1_l1_t2\")"
   ]
  },
  {
   "cell_type": "code",
   "execution_count": 6,
   "id": "bb431094-4392-4e5c-8764-e29b484d6a13",
   "metadata": {},
   "outputs": [
    {
     "name": "stdout",
     "output_type": "stream",
     "text": [
      "Problem name: \n",
      "\n",
      "Minimize\n",
      "  x*y - x*z + 2*y*z + x - 2*y + 3*z\n",
      "\n",
      "Subject to\n",
      "  No constraints\n",
      "\n",
      "  Binary variables (3)\n",
      "    x y z\n",
      "\n"
     ]
    }
   ],
   "source": [
    "qubo = QuadraticProgram()\n",
    "\n",
    "# Parameters:     \n",
    "# soil quality - what's the nitrogen availability \n",
    "# in the soil (a grade between 0 and 1)\n",
    "# Note: In the beginning all the parameters are ideal \n",
    "# soil_quality = 1\n",
    "qubo.binary_var(\"soil_quality\")\n",
    "\n",
    "# Per unit field in dollars\n",
    "# fertilizer_price = 10.55\n",
    "qubo.binary_var(\"fertilizer_price\")\n",
    "\n",
    "# A unit area of a field\n",
    "# field_area = 1\n",
    "qubo.binary_var(\"field_area\")\n",
    "\n",
    "# Environment factor (?) - a grade between 0 and 1\n",
    "# env = 1\n",
    "qubo.binary_var(\"env\")\n",
    "\n",
    "# Nodes in the 3D cube: checkout the documentation\n",
    "# Number of crops type\n",
    "plants_count = 2\n",
    "# Number of available field in which the crops should rotate\n",
    "fields_count = 2\n",
    "# Number of years/seasons for rotating the crops\n",
    "years_count = 2\n",
    "\n",
    "name_nodes(qubo, plants_count, fields_count, years_count)\n",
    "\n",
    "# qubo.minimize(linear=[], quadratic={(\"env\", \"fertilizer_price\", \"\"): 1, (\"x\", \"z\"): -1, (\"y\", \"z\"): 2})\n",
    "# print(qubo.prettyprint())"
   ]
  },
  {
   "cell_type": "code",
   "execution_count": 10,
   "id": "587d3e60-b3b3-402d-ae3a-32f4d6f3844e",
   "metadata": {},
   "outputs": [
    {
     "name": "stdout",
     "output_type": "stream",
     "text": [
      "offset: 1.5\n",
      "operator:\n",
      "-0.5 * IIZ\n",
      "+ 0.25 * IZI\n",
      "- 1.75 * ZII\n",
      "+ 0.25 * IZZ\n",
      "- 0.25 * ZIZ\n",
      "+ 0.5 * ZZI\n"
     ]
    }
   ],
   "source": [
    "op, offset = qubo.to_ising()\n",
    "print(\"offset: {}\".format(offset))\n",
    "print(\"operator:\")\n",
    "print(op)"
   ]
  },
  {
   "cell_type": "code",
   "execution_count": 11,
   "id": "6a77ab81-2c48-4439-995c-f209d121762a",
   "metadata": {},
   "outputs": [
    {
     "name": "stdout",
     "output_type": "stream",
     "text": [
      "Problem name: \n",
      "\n",
      "Minimize\n",
      "  x0*x1 - x0*x2 + 2*x1*x2 + x0 - 2*x1 + 3*x2\n",
      "\n",
      "Subject to\n",
      "  No constraints\n",
      "\n",
      "  Binary variables (3)\n",
      "    x0 x1 x2\n",
      "\n"
     ]
    }
   ],
   "source": [
    "qp = QuadraticProgram()\n",
    "qp.from_ising(op, offset, linear=True)\n",
    "print(qp.prettyprint())"
   ]
  },
  {
   "cell_type": "code",
   "execution_count": 14,
   "id": "76a79136-2674-4ded-91ef-89675d00f1cf",
   "metadata": {},
   "outputs": [],
   "source": [
    "## initializing the MinimumEigensolver we want to use\n",
    "algorithm_globals.random_seed = 10598\n",
    "qaoa_mes = QAOA(sampler=Sampler(), optimizer=COBYLA(), initial_point=[0.0, 0.0])\n",
    "exact_mes = NumPyMinimumEigensolver()"
   ]
  },
  {
   "cell_type": "code",
   "execution_count": 15,
   "id": "97a3adc6-ad62-4edb-b2c9-6ec8488db43e",
   "metadata": {},
   "outputs": [],
   "source": [
    "qaoa = MinimumEigenOptimizer(qaoa_mes)  # using QAOA\n",
    "exact = MinimumEigenOptimizer(exact_mes)  # using the exact classical numpy minimum eigen solver"
   ]
  },
  {
   "cell_type": "code",
   "execution_count": 16,
   "id": "184c538f-fa7f-48e9-8ec8-53cc09616983",
   "metadata": {},
   "outputs": [
    {
     "name": "stdout",
     "output_type": "stream",
     "text": [
      "objective function value: -2.0\n",
      "variable values: x=0.0, y=1.0, z=0.0\n",
      "status: SUCCESS\n"
     ]
    }
   ],
   "source": [
    "exact_result = exact.solve(qubo)\n",
    "print(exact_result.prettyprint())"
   ]
  },
  {
   "cell_type": "code",
   "execution_count": 17,
   "id": "ef1ff470-d8f0-4a87-94b9-fb0647dc94bb",
   "metadata": {},
   "outputs": [
    {
     "name": "stdout",
     "output_type": "stream",
     "text": [
      "objective function value: -2.0\n",
      "variable values: x=0.0, y=1.0, z=0.0\n",
      "status: SUCCESS\n"
     ]
    }
   ],
   "source": [
    "qaoa_result = qaoa.solve(qubo)\n",
    "print(qaoa_result.prettyprint())"
   ]
  },
  {
   "cell_type": "code",
   "execution_count": 18,
   "id": "6a27c159-bb33-4754-8f50-195bd7d06a90",
   "metadata": {},
   "outputs": [
    {
     "name": "stdout",
     "output_type": "stream",
     "text": [
      "variable order: ['x', 'y', 'z']\n",
      "SolutionSample(x=array([0., 1., 0.]), fval=-2.0, probability=0.4410900880690431, status=<OptimizationResultStatus.SUCCESS: 0>)\n",
      "SolutionSample(x=array([0., 0., 0.]), fval=0.0, probability=0.2276092830372722, status=<OptimizationResultStatus.SUCCESS: 0>)\n",
      "SolutionSample(x=array([1., 1., 0.]), fval=0.0, probability=0.1413052418997499, status=<OptimizationResultStatus.SUCCESS: 0>)\n",
      "SolutionSample(x=array([1., 0., 0.]), fval=1.0, probability=0.1257222100828826, status=<OptimizationResultStatus.SUCCESS: 0>)\n",
      "SolutionSample(x=array([0., 0., 1.]), fval=3.0, probability=0.0205255745635282, status=<OptimizationResultStatus.SUCCESS: 0>)\n",
      "SolutionSample(x=array([1., 0., 1.]), fval=3.0, probability=0.03044357461683, status=<OptimizationResultStatus.SUCCESS: 0>)\n",
      "SolutionSample(x=array([0., 1., 1.]), fval=3.0, probability=0.0123872794392166, status=<OptimizationResultStatus.SUCCESS: 0>)\n",
      "SolutionSample(x=array([1., 1., 1.]), fval=4.0, probability=0.0009167482914771, status=<OptimizationResultStatus.SUCCESS: 0>)\n"
     ]
    }
   ],
   "source": [
    "print(\"variable order:\", [var.name for var in qaoa_result.variables])\n",
    "for s in qaoa_result.samples:\n",
    "    print(s)"
   ]
  },
  {
   "cell_type": "code",
   "execution_count": 21,
   "id": "8242dc71-3bdf-4a89-a513-a97cd446a04e",
   "metadata": {},
   "outputs": [],
   "source": [
    "def get_filtered_samples(\n",
    "    samples: List[SolutionSample],\n",
    "    threshold: float = 0,\n",
    "    allowed_status: Tuple[OptimizationResultStatus] = (OptimizationResultStatus.SUCCESS,),\n",
    "):\n",
    "    res = []\n",
    "    for s in samples:\n",
    "        if s.status in allowed_status and s.probability > threshold:\n",
    "            res.append(s)\n",
    "\n",
    "    return res"
   ]
  },
  {
   "cell_type": "code",
   "execution_count": 22,
   "id": "fa5624fd-c2c0-4d79-8a8f-c99656f71496",
   "metadata": {},
   "outputs": [
    {
     "name": "stdout",
     "output_type": "stream",
     "text": [
      "SolutionSample(x=array([0., 1., 0.]), fval=-2.0, probability=0.4410900880690431, status=<OptimizationResultStatus.SUCCESS: 0>)\n",
      "SolutionSample(x=array([0., 0., 0.]), fval=0.0, probability=0.2276092830372722, status=<OptimizationResultStatus.SUCCESS: 0>)\n",
      "SolutionSample(x=array([1., 1., 0.]), fval=0.0, probability=0.1413052418997499, status=<OptimizationResultStatus.SUCCESS: 0>)\n",
      "SolutionSample(x=array([1., 0., 0.]), fval=1.0, probability=0.1257222100828826, status=<OptimizationResultStatus.SUCCESS: 0>)\n",
      "SolutionSample(x=array([0., 0., 1.]), fval=3.0, probability=0.0205255745635282, status=<OptimizationResultStatus.SUCCESS: 0>)\n",
      "SolutionSample(x=array([1., 0., 1.]), fval=3.0, probability=0.03044357461683, status=<OptimizationResultStatus.SUCCESS: 0>)\n",
      "SolutionSample(x=array([0., 1., 1.]), fval=3.0, probability=0.0123872794392166, status=<OptimizationResultStatus.SUCCESS: 0>)\n"
     ]
    }
   ],
   "source": [
    "filtered_samples = get_filtered_samples(\n",
    "    qaoa_result.samples, threshold=0.005, allowed_status=(OptimizationResultStatus.SUCCESS,)\n",
    ")\n",
    "for s in filtered_samples:\n",
    "    print(s)"
   ]
  },
  {
   "cell_type": "code",
   "execution_count": 23,
   "id": "ba4d745e-d641-4bbb-b9c0-2ed3cdb0b52c",
   "metadata": {},
   "outputs": [],
   "source": [
    "fvals = [s.fval for s in qaoa_result.samples]\n",
    "probabilities = [s.probability for s in qaoa_result.samples]"
   ]
  },
  {
   "cell_type": "code",
   "execution_count": 24,
   "id": "fe766d25-8f71-4294-a99c-6e5a0813547b",
   "metadata": {},
   "outputs": [
    {
     "data": {
      "text/plain": [
       "{'x=0 y=1 z=0': 0.4410900880690431,\n",
       " 'x=0 y=0 z=0': 0.2276092830372722,\n",
       " 'x=1 y=1 z=0': 0.1413052418997499,\n",
       " 'x=1 y=0 z=0': 0.1257222100828826,\n",
       " 'x=0 y=0 z=1': 0.0205255745635282,\n",
       " 'x=1 y=0 z=1': 0.03044357461683,\n",
       " 'x=0 y=1 z=1': 0.0123872794392166}"
      ]
     },
     "execution_count": 24,
     "metadata": {},
     "output_type": "execute_result"
    }
   ],
   "source": [
    "samples_for_plot = {\n",
    "    \" \".join(f\"{qaoa_result.variables[i].name}={int(v)}\" for i, v in enumerate(s.x)): s.probability\n",
    "    for s in filtered_samples\n",
    "}\n",
    "samples_for_plot"
   ]
  },
  {
   "cell_type": "code",
   "execution_count": 25,
   "id": "ea91d127-324a-4138-bed4-1179332f515e",
   "metadata": {},
   "outputs": [
    {
     "data": {
      "image/png": "[encoded data removed]",
      "text/plain": [
       "<Figure size 504x360 with 1 Axes>"
      ]
     },
     "execution_count": 25,
     "metadata": {},
     "output_type": "execute_result"
    }
   ],
   "source": [
    "plot_histogram(samples_for_plot)"
   ]
  },
  {
   "cell_type": "code",
   "execution_count": null,
   "id": "2955a531-023a-46e3-85ea-d0a9ddb5620a",
   "metadata": {},
   "outputs": [],
   "source": []
  }
 ],
 "metadata": {
  "kernelspec": {
   "display_name": "Python 3 [Qiskit]",
   "language": "python",
   "name": "python3_qiskit_9y9siy"
  },
  "language_info": {
   "codemirror_mode": {
    "name": "ipython",
    "version": 3
   },
   "file_extension": ".py",
   "mimetype": "text/x-python",
   "name": "python",
   "nbconvert_exporter": "python",
   "pygments_lexer": "ipython3",
   "version": "3.9.10"
  }
 },
 "nbformat": 4,
 "nbformat_minor": 5
}
